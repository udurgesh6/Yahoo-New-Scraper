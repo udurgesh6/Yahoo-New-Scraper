{
 "cells": [
  {
   "cell_type": "markdown",
   "metadata": {},
   "source": [
    "#  Yahoo News Scraper"
   ]
  },
  {
   "cell_type": "code",
   "execution_count": 1,
   "metadata": {},
   "outputs": [],
   "source": [
    "import re\n",
    "import csv\n",
    "from time import sleep\n",
    "from bs4 import BeautifulSoup\n",
    "import requests"
   ]
  },
  {
   "cell_type": "code",
   "execution_count": 2,
   "metadata": {},
   "outputs": [],
   "source": [
    "template = 'https://in.search.yahoo.com/search?p={}'"
   ]
  },
  {
   "cell_type": "code",
   "execution_count": 3,
   "metadata": {},
   "outputs": [],
   "source": [
    "url = template.format('iphone 12 leaked')"
   ]
  },
  {
   "cell_type": "code",
   "execution_count": 6,
   "metadata": {},
   "outputs": [],
   "source": [
    "headers = {\n",
    "    'accept': 'text/html,application/xhtml+xml,application/xml;q=0.9,image/avif,image/webp,image/apng,*/*;q=0.8,application/signed-exchange;v=b3;q=0.9',\n",
    "    'accept-encoding': 'gzip, deflate, br',\n",
    "    'accept-language': 'en-IN,en-GB;q=0.9,en-US;q=0.8,en;q=0.7',\n",
    "    'referer': 'https://in.news.yahoo.com/',\n",
    "    'user-agent': 'Mozilla/5.0 (Linux; Android 6.0; Nexus 5 Build/MRA58N) AppleWebKit/537.36 (KHTML, like Gecko) Chrome/87.0.4280.88 Mobile Safari/537.36'\n",
    "}"
   ]
  },
  {
   "cell_type": "code",
   "execution_count": 7,
   "metadata": {},
   "outputs": [],
   "source": [
    "response = requests.get(url, headers = headers)"
   ]
  },
  {
   "cell_type": "code",
   "execution_count": 9,
   "metadata": {},
   "outputs": [],
   "source": [
    "soup = BeautifulSoup(response.text, 'html.parser')"
   ]
  },
  {
   "cell_type": "markdown",
   "metadata": {},
   "source": [
    "GET THE COLLECTION"
   ]
  },
  {
   "cell_type": "code",
   "execution_count": 19,
   "metadata": {},
   "outputs": [],
   "source": [
    "cards = soup.find_all('section', 'algo')"
   ]
  },
  {
   "cell_type": "code",
   "execution_count": 20,
   "metadata": {},
   "outputs": [
    {
     "data": {
      "text/plain": [
       "8"
      ]
     },
     "execution_count": 20,
     "metadata": {},
     "output_type": "execute_result"
    }
   ],
   "source": [
    "len(cards)"
   ]
  },
  {
   "cell_type": "code",
   "execution_count": 21,
   "metadata": {},
   "outputs": [
    {
     "data": {
      "text/plain": [
       "[<section class=\"dd algo s-algo algo-sr fst lst Sr\" data-428=\"5fe96c00969d0\"><div class=\"grp grp-talgo ag-1 u-tapHgt u-negmlrEdges u-plrEdges bb-1 cur-p\"><div class=\"compTitle options-toggle\"><h3 class=\"title\"><a class=\"s-title fz-m\" data-428=\"5fe96c0096ab4\" href=\"https://r.search.yahoo.com/_ylt=AwrPhO8AbOlfrjYAQBjZjSM5;_ylu=Y29sbwNzZzMEcG9zAzEEdnRpZAMEc2VjA3Ny/RV=2/RE=1609161856/RO=10/RU=https%3a%2f%2fwww.moneycontrol.com%2fnews%2ftechnology%2fapple-iphone-12-launch-prices-leaked-before-october-launch-here-are-all-the-details-5919061.html/RK=2/RS=NV5MoX03qKN_cIU1Kxkd9tuBilU-\" referrerpolicy=\"origin\">Apple IPhone 12 Prices Leaked Before October Launch; Here Are ...</a></h3> <div><span class=\"s-source s-url cite d-b tc w-100p lh-20\"><b>www.moneycontrol.com</b>/news/technology/apple...</span></div></div></div><div class=\"grp grp-talgo-ext u-negmlrEdges u-plrEdges\"><div class=\"compText\"><p class=\"s-desc lh-20 fbox-lc3 d-box ov-h fbox-ov\">Apple <b>iPhone 12 </b>prices <b>leaked </b>before October launch; here are all the details The smallest rumoured version, the <b>iPhone 12 </b>mini may start at $649 (Rs 47,600) while the... </p></div></div></section>,\n",
       " <section class=\"dd algo s-algo algo-sr fst lst Sr\" data-428=\"5fe96c0098195\"><div class=\"grp grp-talgo ag-2 u-tapHgt u-negmlrEdges u-plrEdges bb-1 cur-p\"><div class=\"compTitle options-toggle\"><h3 class=\"title\"><a class=\"s-title fz-m\" data-428=\"5fe96c009825a\" href=\"https://r.search.yahoo.com/_ylt=AwrPhO8AbOlfrjYAUxjZjSM5;_ylu=Y29sbwNzZzMEcG9zAzIEdnRpZAMEc2VjA3Ny/RV=2/RE=1609161856/RO=10/RU=https%3a%2f%2fwww.indiatvnews.com%2ftechnology%2fnews-apple-iphone-12-pro-leaked-hands-on-video-lidar-sensor-flat-edges-and-more-648995/RK=2/RS=5exQDbEsJ5bC6OuCOHGECnaYt.I-\" referrerpolicy=\"origin\">iPhone 12 Pro leaked in new hands-on video: Watch video ...</a></h3> <div><span class=\"s-source s-url cite d-b tc w-100p lh-20\">www.indiatvnews.com/technology/news-apple-<b>iphone</b>...</span></div></div></div><div class=\"grp grp-talgo-ext u-negmlrEdges u-plrEdges\"><div class=\"compText\"><p class=\"s-desc lh-20 fbox-lc3 d-box ov-h fbox-ov\"><b>Leaked iPhone 12 </b>Pro Apple is quite near to the unveiling of the 2020 <b>iPhone 12 </b>lineup, which could either arrive next month or at the Cupertino major's September 15... </p></div></div></section>,\n",
       " <section class=\"dd algo s-algo algo-sr fst Sr\" data-428=\"5fe96c0098b33\"><div class=\"grp grp-talgo ag-3 u-tapHgt u-negmlrEdges u-plrEdges bb-1 cur-p\"><div class=\"compTitle options-toggle\"><h3 class=\"title\"><a class=\"s-title fz-m\" data-428=\"5fe96c0098bfc\" href=\"https://r.search.yahoo.com/_ylt=AwrPhO8AbOlfrjYAXhjZjSM5;_ylu=Y29sbwNzZzMEcG9zAzMEdnRpZAMEc2VjA3Ny/RV=2/RE=1609161856/RO=10/RU=https%3a%2f%2fwww.indiatvnews.com%2ftechnology%2fnews-apple-iphone-12-leaks-three-display-sizes-ipad-pro-like-design-know-details-628244/RK=2/RS=X2a1JzNw3E8B71Zd04Sl6u39MJI-\" referrerpolicy=\"origin\">iPhone 12 leaked dummy units hint at three screen ... - India TV</a></h3> <div><span class=\"s-source s-url cite d-b tc w-100p lh-20\">www.indiatvnews.com/technology/news-apple-<b>iphone</b>...</span></div></div></div><div class=\"grp grp-talgo-ext u-negmlrEdges u-plrEdges\"><div class=\"compText\"><p class=\"s-desc lh-20 fbox-lc3 d-box ov-h fbox-ov\"><b>iPhone 12 </b>series dummy units We have been hearing about the 2020 Apple <b>iPhone 12 </b>lineup for months now and each rumour about it fuels further anticipation. Joining the... </p></div></div></section>,\n",
       " <section class=\"dd algo s-algo algo-sr Sr\" data-428=\"5fe96c0098d05\"><div class=\"grp grp-talgo ag-4 u-tapHgt u-negmlrEdges u-plrEdges bb-1 cur-p\"><div class=\"compTitle options-toggle\"><h3 class=\"title\"><a class=\"s-title fz-m\" data-428=\"5fe96c0098dcd\" href=\"https://r.search.yahoo.com/_ylt=AwrPhO8AbOlfrjYAXxjZjSM5;_ylu=Y29sbwNzZzMEcG9zAzQEdnRpZAMEc2VjA3Ny/RV=2/RE=1609161856/RO=10/RU=https%3a%2f%2fwww.gizchina.com%2f2020%2f08%2f18%2fiphone-12-family-shots-leaked-simply-paying-tribute-to-iphone-4%2f/RK=2/RS=kjdUembNY_9_OAwFO1m2Ck7JCT4-\" referrerpolicy=\"origin\">iPhone 12 Family Shots Leaked: Simply Paying Tribute to iPhone 4</a></h3> <div><span class=\"s-source s-url cite d-b tc w-100p lh-20\">www.gizchina.com/2020/08/18/<b>iphone</b>-<b>12</b>-family...</span></div></div></div><div class=\"grp grp-talgo-ext u-negmlrEdges u-plrEdges\"><div class=\"compText\"><p class=\"s-desc lh-20 fbox-lc3 d-box ov-h fbox-ov\">iPhone 12 Family Shots Leaked: Simply Paying Tribute to iPhone 4 September is not far away. So it’s logical that every day we are getting news concerning the parameters,... </p></div></div></section>,\n",
       " <section class=\"dd algo s-algo algo-sr Sr\" data-428=\"5fe96c0098eb4\"><div class=\"grp grp-talgo ag-5 u-tapHgt u-negmlrEdges u-plrEdges bb-1 cur-p\"><div class=\"compTitle options-toggle\"><h3 class=\"title\"><a class=\"s-title fz-m\" data-428=\"5fe96c0098f7b\" href=\"https://r.search.yahoo.com/_ylt=AwrPhO8AbOlfrjYAYBjZjSM5;_ylu=Y29sbwNzZzMEcG9zAzUEdnRpZAMEc2VjA3Ny/RV=2/RE=1609161856/RO=10/RU=https%3a%2f%2ftrak.in%2ftags%2fbusiness%2f2020%2f10%2f10%2ffree-airpods-with-iphones-iphone-12-12-prices-leaked-with-full-specs-iphone-12-price-in-india-variants-and-more%2f/RK=2/RS=lPI.OP3KNSOHJUzZavhe0oDlCMI-\" referrerpolicy=\"origin\">Free AirPods With iPhones, iPhone 12 Prices Leaked With Full ...</a></h3> <div><span class=\"s-source s-url cite d-b tc w-100p lh-20\">trak.in/tags/business/2020/10/10/free-airpods...</span></div></div></div><div class=\"grp grp-talgo-ext u-negmlrEdges u-plrEdges\"><div class=\"compText\"><p class=\"s-desc lh-20 fbox-lc3 d-box ov-h fbox-ov\">Free AirPods with iPhones. iPhone 12 prices have been leaked alongside full specs and the number of iPhone 12 variants. iPhone 12 launch invites are out. The ‘special... </p></div></div></section>,\n",
       " <section class=\"dd algo s-algo algo-sr richAlgo\" data-428=\"5fe96c0099076\"><div class=\"grp grp-talgo ag-6 u-tapHgt u-negmlrEdges u-plrEdges bb-1 cur-p\"><div class=\"compTitle options-toggle\"><h3 class=\"title\"><a class=\"s-title fz-m\" data-428=\"5fe96c009913c\" href=\"https://r.search.yahoo.com/_ylt=AwrPhO8AbOlfrjYAYRjZjSM5;_ylu=Y29sbwNzZzMEcG9zAzYEdnRpZAMEc2VjA3Ny/RV=2/RE=1609161856/RO=10/RU=https%3a%2f%2fwww.techradar.com%2fnews%2fiphone-12-prices-leaked-for-every-model-and-storage-size/RK=2/RS=w.bJngwuRv9meKU_gFnZayQj4Jw-\" referrerpolicy=\"origin\">iPhone 12 prices leaked for every model and storage size ...</a></h3> <div><span class=\"s-source s-url cite d-b tc w-100p lh-20\"><b>www.techradar.com</b>/news/<b>iphone</b>-<b>12</b>-prices-<b>leaked</b>...</span></div></div></div><div class=\"grp grp-talgo-ext u-negmlrEdges u-plrEdges\"><div class=\"compText\"><p class=\"s-desc lh-20 fbox-lc3 d-box ov-h fbox-ov\">The iPhone 12 range is likely landing very soon, but ahead of that plenty of details have leaked, including most recently pricing information for every model. There’s... </p></div><ul class=\"compInfo mt-8 mb-0 d-b va-top\"><li class=\"tc lh-24 mb-0 fc-lgray\"><label class=\"fw-b\">Author:</label> James Rogerson</li></ul></div></section>,\n",
       " <section class=\"dd algo s-algo algo-sr Sr\" data-428=\"5fe96c0099249\"><div class=\"grp grp-talgo ag-7 u-tapHgt u-negmlrEdges u-plrEdges bb-1 cur-p\"><div class=\"compTitle options-toggle\"><h3 class=\"title\"><a class=\"s-title fz-m\" data-428=\"5fe96c0099310\" href=\"https://r.search.yahoo.com/_ylt=AwrPhO8AbOlfrjYAYhjZjSM5;_ylu=Y29sbwNzZzMEcG9zAzcEdnRpZAMEc2VjA3Ny/RV=2/RE=1609161856/RO=10/RU=https%3a%2f%2fwww.forbes.com%2fsites%2fgordonkelly%2f2020%2f10%2f01%2fapple-iphone-12-pro-max-release-date-camera-price-iphone-11-pro-max-upgrade%2f/RK=2/RS=xhF.SyceNgt.YTxi_Bpp78ZQob4-\" referrerpolicy=\"origin\">Leaked iPhone 12 Pro Max Upgrades May Anger iPhone 12 Pro Buyers</a></h3> <div><span class=\"s-source s-url cite d-b tc w-100p lh-20\"><b>www.forbes.com</b>/sites/gordonkelly/2020/10/01/...</span></div></div></div><div class=\"grp grp-talgo-ext u-negmlrEdges u-plrEdges\"><div class=\"compText\"><p class=\"s-desc lh-20 fbox-lc3 d-box ov-h fbox-ov\">Earlier this week, popular YouTuber Filip Koroy (aka EverythingApplePro) and prolific leaker Max Weinbach combined to reveal Apple is set to give the <b>iPhone 12 </b>Pro Max... </p></div></div></section>,\n",
       " <section class=\"dd algo s-algo algo-sr lst Sr\" data-428=\"5fe96c0099415\"><div class=\"grp grp-talgo ag-8 u-tapHgt u-negmlrEdges u-plrEdges bb-1 cur-p\"><div class=\"compTitle options-toggle\"><h3 class=\"title\"><a class=\"s-title fz-m\" data-428=\"5fe96c00994db\" href=\"https://r.search.yahoo.com/_ylt=AwrPhO8AbOlfrjYAYxjZjSM5;_ylu=Y29sbwNzZzMEcG9zAzgEdnRpZAMEc2VjA3Ny/RV=2/RE=1609161856/RO=10/RU=https%3a%2f%2fgadgets.ndtv.com%2fmobiles%2fnews%2fiphone-12-price-leak-usd-649-749-999-1099-report-2221734/RK=2/RS=OWk1sdSI9TOlcamZir7SkA4XeTE-\" referrerpolicy=\"origin\">iPhone 12 Series Pricing for All Four Expected Models ...</a></h3> <div><span class=\"s-source s-url cite d-b tc w-100p lh-20\"><b>gadgets.ndtv.com</b>/mobiles/news/<b>iphone-12</b>-price...</span></div></div></div><div class=\"grp grp-talgo-ext u-negmlrEdges u-plrEdges\"><div class=\"compText\"><p class=\"s-desc lh-20 fbox-lc3 d-box ov-h fbox-ov\"><b>iPhone 12 </b>series leak indicate a $649 (roughly Rs. 49,100) <b>iPhone 12 </b>6.7-inch <b>iPhone 12 </b>Pro Max will be priced at $1,099 (roughly Rs. 83,200) There might be delays in the... </p></div></div></section>]"
      ]
     },
     "execution_count": 21,
     "metadata": {},
     "output_type": "execute_result"
    }
   ],
   "source": [
    "cards"
   ]
  },
  {
   "cell_type": "markdown",
   "metadata": {},
   "source": [
    "Create a prototype model"
   ]
  },
  {
   "cell_type": "code",
   "execution_count": 22,
   "metadata": {},
   "outputs": [],
   "source": [
    "card = cards[0]"
   ]
  },
  {
   "cell_type": "code",
   "execution_count": 26,
   "metadata": {},
   "outputs": [],
   "source": [
    "headline= card.find('a', 's-title').text"
   ]
  },
  {
   "cell_type": "code",
   "execution_count": 27,
   "metadata": {},
   "outputs": [
    {
     "data": {
      "text/plain": [
       "'Apple IPhone 12 Prices Leaked Before October Launch; Here Are ...'"
      ]
     },
     "execution_count": 27,
     "metadata": {},
     "output_type": "execute_result"
    }
   ],
   "source": [
    "headline"
   ]
  },
  {
   "cell_type": "code",
   "execution_count": 28,
   "metadata": {},
   "outputs": [],
   "source": [
    "source = card.find('span', 's-source').text"
   ]
  },
  {
   "cell_type": "code",
   "execution_count": 29,
   "metadata": {},
   "outputs": [
    {
     "data": {
      "text/plain": [
       "'www.moneycontrol.com/news/technology/apple...'"
      ]
     },
     "execution_count": 29,
     "metadata": {},
     "output_type": "execute_result"
    }
   ],
   "source": [
    "source"
   ]
  },
  {
   "cell_type": "code",
   "execution_count": 30,
   "metadata": {},
   "outputs": [],
   "source": [
    "description = card.find('p', 's-desc').text"
   ]
  },
  {
   "cell_type": "code",
   "execution_count": 31,
   "metadata": {},
   "outputs": [
    {
     "data": {
      "text/plain": [
       "'Apple iPhone 12 prices leaked before October launch; here are all the details The smallest rumoured version, the iPhone 12 mini may start at $649 (Rs 47,600) while the... '"
      ]
     },
     "execution_count": 31,
     "metadata": {},
     "output_type": "execute_result"
    }
   ],
   "source": [
    "description"
   ]
  },
  {
   "cell_type": "code",
   "execution_count": 32,
   "metadata": {},
   "outputs": [
    {
     "data": {
      "text/plain": [
       "'https://r.search.yahoo.com/_ylt=AwrPhO8AbOlfrjYAQBjZjSM5;_ylu=Y29sbwNzZzMEcG9zAzEEdnRpZAMEc2VjA3Ny/RV=2/RE=1609161856/RO=10/RU=https%3a%2f%2fwww.moneycontrol.com%2fnews%2ftechnology%2fapple-iphone-12-launch-prices-leaked-before-october-launch-here-are-all-the-details-5919061.html/RK=2/RS=NV5MoX03qKN_cIU1Kxkd9tuBilU-'"
      ]
     },
     "execution_count": 32,
     "metadata": {},
     "output_type": "execute_result"
    }
   ],
   "source": [
    "raw_link = card.find('a').get('href')\n",
    "raw_link"
   ]
  },
  {
   "cell_type": "code",
   "execution_count": 33,
   "metadata": {},
   "outputs": [
    {
     "data": {
      "text/plain": [
       "'https://r.search.yahoo.com/_ylt=AwrPhO8AbOlfrjYAQBjZjSM5;_ylu=Y29sbwNzZzMEcG9zAzEEdnRpZAMEc2VjA3Ny/RV=2/RE=1609161856/RO=10/RU=https://www.moneycontrol.com/news/technology/apple-iphone-12-launch-prices-leaked-before-october-launch-here-are-all-the-details-5919061.html/RK=2/RS=NV5MoX03qKN_cIU1Kxkd9tuBilU-'"
      ]
     },
     "execution_count": 33,
     "metadata": {},
     "output_type": "execute_result"
    }
   ],
   "source": [
    "unquoted_link = requests.utils.unquote(raw_link)\n",
    "unquoted_link"
   ]
  },
  {
   "cell_type": "code",
   "execution_count": 34,
   "metadata": {},
   "outputs": [
    {
     "data": {
      "text/plain": [
       "'https://www.moneycontrol.com/news/technology/apple-iphone-12-launch-prices-leaked-before-october-launch-here-are-all-the-details-5919061.html'"
      ]
     },
     "execution_count": 34,
     "metadata": {},
     "output_type": "execute_result"
    }
   ],
   "source": [
    "pattern = re.compile(r'RU=(.+)\\/RK')\n",
    "clean_link = re.search(pattern, unquoted_link).group(1)\n",
    "clean_link"
   ]
  },
  {
   "cell_type": "markdown",
   "metadata": {},
   "source": [
    "Generalize the model"
   ]
  },
  {
   "cell_type": "code",
   "execution_count": 35,
   "metadata": {},
   "outputs": [],
   "source": [
    "def get_article(card):\n",
    "    \"\"\"Extract article information from the raw html\"\"\"\n",
    "    headline= card.find('a', 's-title').text\n",
    "    source = card.find('span', 's-source').text\n",
    "    description = card.find('p', 's-desc').text\n",
    "    raw_link = card.find('a').get('href')\n",
    "    unquoted_link = requests.utils.unquote(raw_link)\n",
    "    pattern = re.compile(r'RU=(.+)\\/RK')\n",
    "    clean_link = re.search(pattern, unquoted_link).group(1)\n",
    "    \n",
    "    article = (headline, source, description, clean_link)\n",
    "    return article"
   ]
  },
  {
   "cell_type": "code",
   "execution_count": 36,
   "metadata": {},
   "outputs": [],
   "source": [
    "articles = []\n",
    "links = set()\n",
    "\n",
    "for card in cards:\n",
    "    article = get_article(card)\n",
    "    link = article[-1]\n",
    "    if not link in links:\n",
    "        links.add(link)\n",
    "        articles.append(article)"
   ]
  },
  {
   "cell_type": "code",
   "execution_count": 37,
   "metadata": {},
   "outputs": [
    {
     "data": {
      "text/plain": [
       "[('Apple IPhone 12 Prices Leaked Before October Launch; Here Are ...',\n",
       "  'www.moneycontrol.com/news/technology/apple...',\n",
       "  'Apple iPhone 12 prices leaked before October launch; here are all the details The smallest rumoured version, the iPhone 12 mini may start at $649 (Rs 47,600) while the... ',\n",
       "  'https://www.moneycontrol.com/news/technology/apple-iphone-12-launch-prices-leaked-before-october-launch-here-are-all-the-details-5919061.html'),\n",
       " ('iPhone 12 Pro leaked in new hands-on video: Watch video ...',\n",
       "  'www.indiatvnews.com/technology/news-apple-iphone...',\n",
       "  \"Leaked iPhone 12 Pro Apple is quite near to the unveiling of the 2020 iPhone 12 lineup, which could either arrive next month or at the Cupertino major's September 15... \",\n",
       "  'https://www.indiatvnews.com/technology/news-apple-iphone-12-pro-leaked-hands-on-video-lidar-sensor-flat-edges-and-more-648995'),\n",
       " ('iPhone 12 leaked dummy units hint at three screen ... - India TV',\n",
       "  'www.indiatvnews.com/technology/news-apple-iphone...',\n",
       "  'iPhone 12 series dummy units We have been hearing about the 2020 Apple iPhone 12 lineup for months now and each rumour about it fuels further anticipation. Joining the... ',\n",
       "  'https://www.indiatvnews.com/technology/news-apple-iphone-12-leaks-three-display-sizes-ipad-pro-like-design-know-details-628244'),\n",
       " ('iPhone 12 Family Shots Leaked: Simply Paying Tribute to iPhone 4',\n",
       "  'www.gizchina.com/2020/08/18/iphone-12-family...',\n",
       "  'iPhone 12 Family Shots Leaked: Simply Paying Tribute to iPhone 4 September is not far away. So it’s logical that every day we are getting news concerning the parameters,... ',\n",
       "  'https://www.gizchina.com/2020/08/18/iphone-12-family-shots-leaked-simply-paying-tribute-to-iphone-4/'),\n",
       " ('Free AirPods With iPhones, iPhone 12 Prices Leaked With Full ...',\n",
       "  'trak.in/tags/business/2020/10/10/free-airpods...',\n",
       "  'Free AirPods with iPhones. iPhone 12 prices have been leaked alongside full specs and the number of iPhone 12 variants. iPhone 12 launch invites are out. The ‘special... ',\n",
       "  'https://trak.in/tags/business/2020/10/10/free-airpods-with-iphones-iphone-12-12-prices-leaked-with-full-specs-iphone-12-price-in-india-variants-and-more/')]"
      ]
     },
     "execution_count": 37,
     "metadata": {},
     "output_type": "execute_result"
    }
   ],
   "source": [
    "articles[:5]"
   ]
  },
  {
   "cell_type": "markdown",
   "metadata": {},
   "source": [
    "Get the next page"
   ]
  },
  {
   "cell_type": "code",
   "execution_count": 40,
   "metadata": {},
   "outputs": [],
   "source": [
    "url = soup.find('a', 'next').get('href')"
   ]
  },
  {
   "cell_type": "code",
   "execution_count": 41,
   "metadata": {},
   "outputs": [
    {
     "data": {
      "text/plain": [
       "'https://in.search.yahoo.com/search;_ylt=AwrPhO8AbOlfrjYAZBjZjSM5;_ylu=Y29sbwNzZzMEcG9zAzEEdnRpZAMEc2VjA3BhZ2luYXRpb24-?p=iphone+12+leaked&b=11&pz=10&pstart=4'"
      ]
     },
     "execution_count": 41,
     "metadata": {},
     "output_type": "execute_result"
    }
   ],
   "source": [
    "url"
   ]
  },
  {
   "cell_type": "markdown",
   "metadata": {},
   "source": [
    "Bringing it all together"
   ]
  },
  {
   "cell_type": "code",
   "execution_count": 52,
   "metadata": {},
   "outputs": [],
   "source": [
    "import re\n",
    "import csv\n",
    "from time import sleep\n",
    "from bs4 import BeautifulSoup\n",
    "import requests\n",
    "\n",
    "headers = {\n",
    "    'accept': 'text/html,application/xhtml+xml,application/xml;q=0.9,image/avif,image/webp,image/apng,*/*;q=0.8,application/signed-exchange;v=b3;q=0.9',\n",
    "    'accept-encoding': 'gzip, deflate, br',\n",
    "    'accept-language': 'en-IN,en-GB;q=0.9,en-US;q=0.8,en;q=0.7',\n",
    "    'referer': 'https://in.news.yahoo.com/',\n",
    "    'user-agent': 'Mozilla/5.0 (Linux; Android 6.0; Nexus 5 Build/MRA58N) AppleWebKit/537.36 (KHTML, like Gecko) Chrome/87.0.4280.88 Mobile Safari/537.36'\n",
    "}\n",
    "\n",
    "def get_article(card):\n",
    "    \"\"\"Extract article information from the raw html\"\"\"\n",
    "    headline= card.find('a', 's-title').text\n",
    "    source = card.find('span', 's-source').text\n",
    "    description = card.find('p', 's-desc').text\n",
    "    raw_link = card.find('a').get('href')\n",
    "    unquoted_link = requests.utils.unquote(raw_link)\n",
    "    pattern = re.compile(r'RU=(.+)\\/RK')\n",
    "    clean_link = re.search(pattern, unquoted_link).group(1)\n",
    "    \n",
    "    article = (headline, source, description, clean_link)\n",
    "    return article\n",
    "\n",
    "def get_the_news(search):\n",
    "    \"\"\"Run the main program\"\"\"\n",
    "    template = 'https://in.search.yahoo.com/search?p={}'\n",
    "    url = template.format(search)\n",
    "    articles = []\n",
    "    links = set()\n",
    "    \n",
    "    while True:\n",
    "        response = requests.get(url, headers = headers)\n",
    "        soup = BeautifulSoup(response.text, 'html.parser')\n",
    "        cards = soup.find_all('section', 'algo')\n",
    "        \n",
    "        # extract articles from the page\n",
    "        for card in cards:\n",
    "            article = get_article(card)\n",
    "            link = article[-1]\n",
    "            if not link in links:\n",
    "                links.add(link)\n",
    "                articles.append(article)\n",
    "        # find the next page\n",
    "        try:\n",
    "            url = soup.find('a','next').get('href')\n",
    "            print(url)\n",
    "            sleep(1)\n",
    "        except AttributeError:\n",
    "            break\n",
    "            \n",
    "    # save articles data\n",
    "    with open('yahoo-news.csv','w', newline='', encoding='utf-8') as f:\n",
    "        writer = csv.writer(f)\n",
    "        writer.writerow(['Headline', 'Source', 'Description', 'Link'])\n",
    "        writer.writerows(articles)\n",
    "            \n",
    "    return articles"
   ]
  },
  {
   "cell_type": "code",
   "execution_count": 53,
   "metadata": {},
   "outputs": [
    {
     "name": "stdout",
     "output_type": "stream",
     "text": [
      "https://in.search.yahoo.com/search;_ylt=AwrxgKA_fOlf0isA_RzZjSM5;_ylu=Y29sbwNzZzMEcG9zAzEEdnRpZAMEc2VjA3BhZ2luYXRpb24-?p=iphone+12+leaked&b=11&pz=10&pstart=5\n",
      "https://in.search.yahoo.com/search;_ylt=AwrxiDdAfOlfjxIA0gLZjSM5;_ylu=Y29sbwNzZzMEcG9zAzEEdnRpZAMEc2VjA3BhZ2luYXRpb24-?p=iphone+12+leaked&pz=10&b=21&pz=10&pstart=6\n",
      "https://in.search.yahoo.com/search;_ylt=AwrwZeVCfOlfiD0ADhfZjSM5;_ylu=Y29sbwNzZzMEcG9zAzEEdnRpZAMEc2VjA3BhZ2luYXRpb24-?p=iphone+12+leaked&pz=10&b=31&pz=10&pstart=5\n",
      "https://in.search.yahoo.com/search;_ylt=AwrPgxFEfOlfzH0A5CbZjSM5;_ylu=Y29sbwNzZzMEcG9zAzEEdnRpZAMEc2VjA3BhZ2luYXRpb24-?p=iphone+12+leaked&pz=10&b=41&pz=10&pstart=5\n",
      "https://in.search.yahoo.com/search;_ylt=AwrPgxBFfOlfaigAKC_ZjSM5;_ylu=Y29sbwNzZzMEcG9zAzEEdnRpZAMEc2VjA3BhZ2luYXRpb24-?p=iphone+12+leaked&pz=10&b=51&pz=10&pstart=5\n",
      "https://in.search.yahoo.com/search;_ylt=AwrwS5lHfOlfdgUA1QPZjSM5;_ylu=Y29sbwNzZzMEcG9zAzEEdnRpZAMEc2VjA3BhZ2luYXRpb24-?p=iphone+12+leaked&pz=10&b=61&pz=10&xargs=0\n",
      "https://in.search.yahoo.com/search;_ylt=AwrwJSdIfOlfvAIARxbZjSM5;_ylu=Y29sbwNzZzMEcG9zAzEEdnRpZAMEc2VjA3BhZ2luYXRpb24-?p=iphone+12+leaked&pz=10&b=71&pz=10&pstart=5\n",
      "https://in.search.yahoo.com/search;_ylt=AwrPiBdKfOlf2xEAMEjZjSM5;_ylu=Y29sbwNzZzMEcG9zAzEEdnRpZAMEc2VjA3BhZ2luYXRpb24-?p=iphone+12+leaked&pz=10&b=81&pz=10&pstart=5\n",
      "https://in.search.yahoo.com/search;_ylt=AwrPg3ZMfOlfByoAWxfZjSM5;_ylu=Y29sbwNzZzMEcG9zAzEEdnRpZAMEc2VjA3BhZ2luYXRpb24-?p=iphone+12+leaked&pz=10&b=91&pz=10&pstart=5\n",
      "https://in.search.yahoo.com/search;_ylt=AwrPhOpNfOlfM3sA8wDZjSM5;_ylu=Y29sbwNzZzMEcG9zAzEEdnRpZAMEc2VjA3BhZ2luYXRpb24-?p=iphone+12+leaked&pz=10&b=101&pz=10&pstart=5\n",
      "https://in.search.yahoo.com/search;_ylt=AwrPh9dPfOlfpFgAWQrZjSM5;_ylu=Y29sbwNzZzMEcG9zAzEEdnRpZAMEc2VjA3BhZ2luYXRpb24-?p=iphone+12+leaked&pz=10&b=111&pz=10&pstart=5\n",
      "https://in.search.yahoo.com/search;_ylt=AwrPhO9RfOlfmj0AKgnZjSM5;_ylu=Y29sbwNzZzMEcG9zAzEEdnRpZAMEc2VjA3BhZ2luYXRpb24-?p=iphone+12+leaked&pz=10&b=121&pz=10&pstart=5\n",
      "https://in.search.yahoo.com/search;_ylt=AwrPgxBSfOlfGTIAUEfZjSM5;_ylu=Y29sbwNzZzMEcG9zAzEEdnRpZAMEc2VjA3BhZ2luYXRpb24-?p=iphone+12+leaked&pz=10&b=131&pz=10&pstart=5\n",
      "https://in.search.yahoo.com/search;_ylt=AwrPh9RUfOlfYAoA0g_ZjSM5;_ylu=Y29sbwNzZzMEcG9zAzEEdnRpZAMEc2VjA3BhZ2luYXRpb24-?p=iphone+12+leaked&pz=10&b=141&pz=10&pstart=5\n",
      "https://in.search.yahoo.com/search;_ylt=AwrwSYtWfOlfnH4ARjbZjSM5;_ylu=Y29sbwNzZzMEcG9zAzEEdnRpZAMEc2VjA3BhZ2luYXRpb24-?p=iphone+12+leaked&pz=10&b=151&pz=10&pstart=5\n",
      "https://in.search.yahoo.com/search;_ylt=AwrwSYtXfOlfxBAAUxfZjSM5;_ylu=Y29sbwNzZzMEcG9zAzEEdnRpZAMEc2VjA3BhZ2luYXRpb24-?p=iphone+12+leaked&pz=10&b=161&pz=10&pstart=5\n",
      "https://in.search.yahoo.com/search;_ylt=AwrPhStZfOlfwAQABTvZjSM5;_ylu=Y29sbwNzZzMEcG9zAzEEdnRpZAMEc2VjA3BhZ2luYXRpb24-?p=iphone+12+leaked&pz=10&b=171&pz=10&pstart=5\n",
      "https://in.search.yahoo.com/search;_ylt=AwrwZeVbfOlfVT0AyRrZjSM5;_ylu=Y29sbwNzZzMEcG9zAzEEdnRpZAMEc2VjA3BhZ2luYXRpb24-?p=iphone+12+leaked&pz=10&b=181&pz=10&pstart=5\n",
      "https://in.search.yahoo.com/search;_ylt=AwrwJXhcfOlfXEYA.RbZjSM5;_ylu=Y29sbwNzZzMEcG9zAzEEdnRpZAMEc2VjA3BhZ2luYXRpb24-?p=iphone+12+leaked&pz=10&b=191&pz=10&pstart=5\n",
      "https://in.search.yahoo.com/search;_ylt=AwrPiFJefOlf5RUAaCDZjSM5;_ylu=Y29sbwNzZzMEcG9zAzEEdnRpZAMEc2VjA3BhZ2luYXRpb24-?p=iphone+12+leaked&pz=10&b=201&pz=10&pstart=5\n",
      "https://in.search.yahoo.com/search;_ylt=AwrwSY5gfOlfgQ0A_B_ZjSM5;_ylu=Y29sbwNzZzMEcG9zAzEEdnRpZAMEc2VjA3BhZ2luYXRpb24-?p=iphone+12+leaked&pz=10&b=211&pz=10&pstart=5\n",
      "https://in.search.yahoo.com/search;_ylt=AwrPhShhfOlfYC4Al0bZjSM5;_ylu=Y29sbwNzZzMEcG9zAzEEdnRpZAMEc2VjA3BhZ2luYXRpb24-?p=iphone+12+leaked&pz=10&b=221&pz=10&pstart=5\n",
      "https://in.search.yahoo.com/search;_ylt=AwrPhmljfOlf.xAA7RnZjSM5;_ylu=Y29sbwNzZzMEcG9zAzEEdnRpZAMEc2VjA3BhZ2luYXRpb24-?p=iphone+12+leaked&pz=10&b=231&pz=10&pstart=5\n",
      "https://in.search.yahoo.com/search;_ylt=AwrwSYplfOlf4XEA6R7ZjSM5;_ylu=Y29sbwNzZzMEcG9zAzEEdnRpZAMEc2VjA3BhZ2luYXRpb24-?p=iphone+12+leaked&pz=10&b=241&pz=10&pstart=5\n",
      "https://in.search.yahoo.com/search;_ylt=AwrwJSlmfOlfi18AFgTZjSM5;_ylu=Y29sbwNzZzMEcG9zAzEEdnRpZAMEc2VjA3BhZ2luYXRpb24-?p=iphone+12+leaked&pz=10&b=251&pz=10&pstart=5\n",
      "https://in.search.yahoo.com/search;_ylt=AwrwSY5ofOlf2WoAGgPZjSM5;_ylu=Y29sbwNzZzMEcG9zAzEEdnRpZAMEc2VjA3BhZ2luYXRpb24-?p=iphone+12+leaked&pz=10&b=261&pz=10&pstart=5\n",
      "https://in.search.yahoo.com/search;_ylt=AwrPhSpqfOlfiFQAaBrZjSM5;_ylu=Y29sbwNzZzMEcG9zAzEEdnRpZAMEc2VjA3BhZ2luYXRpb24-?p=iphone+12+leaked&pz=10&b=271&pz=10&pstart=5\n",
      "https://in.search.yahoo.com/search;_ylt=AwrPhmtrfOlfJysA0BTZjSM5;_ylu=Y29sbwNzZzMEcG9zAzEEdnRpZAMEc2VjA3BhZ2luYXRpb24-?p=iphone+12+leaked&pz=10&b=281&pz=10&pstart=5\n",
      "https://in.search.yahoo.com/search;_ylt=AwrwSYttfOlf3nEAAQPZjSM5;_ylu=Y29sbwNzZzMEcG9zAzEEdnRpZAMEc2VjA3BhZ2luYXRpb24-?p=iphone+12+leaked&pz=10&b=291&pz=10&pstart=5\n",
      "https://in.search.yahoo.com/search;_ylt=AwrPg3VufOlfeh4A5gDZjSM5;_ylu=Y29sbwNzZzMEcG9zAzEEdnRpZAMEc2VjA3BhZ2luYXRpb24-?p=iphone+12+leaked&pz=10&b=301&pz=10&pstart=5\n",
      "https://in.search.yahoo.com/search;_ylt=AwrwIQZwfOlf6BEA_jPZjSM5;_ylu=Y29sbwNzZzMEcG9zAzEEdnRpZAMEc2VjA3BhZ2luYXRpb24-?p=iphone+12+leaked&pz=10&b=311&pz=10&pstart=5\n",
      "https://in.search.yahoo.com/search;_ylt=AwrPh0pyfOlfQjMApxTZjSM5;_ylu=Y29sbwNzZzMEcG9zAzEEdnRpZAMEc2VjA3BhZ2luYXRpb24-?p=iphone+12+leaked&pz=10&b=321&pz=10&pstart=5\n",
      "https://in.search.yahoo.com/search;_ylt=AwrwJSlzfOlfIUEAMULZjSM5;_ylu=Y29sbwNzZzMEcG9zAzEEdnRpZAMEc2VjA3BhZ2luYXRpb24-?p=iphone+12+leaked&pz=10&b=331&pz=10&pstart=5\n",
      "https://in.search.yahoo.com/search;_ylt=AwrwJSl1fOlfIAUAzxjZjSM5;_ylu=Y29sbwNzZzMEcG9zAzEEdnRpZAMEc2VjA3BhZ2luYXRpb24-?p=iphone+12+leaked&pz=10&b=341&pz=10&pstart=5\n",
      "https://in.search.yahoo.com/search;_ylt=AwrPgxB3fOlfm24AHiHZjSM5;_ylu=Y29sbwNzZzMEcG9zAzEEdnRpZAMEc2VjA3BhZ2luYXRpb24-?p=iphone+12+leaked&pz=10&b=351&pz=10&pstart=5\n",
      "https://in.search.yahoo.com/search;_ylt=AwrwJSd4fOlfuGIAgk7ZjSM5;_ylu=Y29sbwNzZzMEcG9zAzEEdnRpZAMEc2VjA3BhZ2luYXRpb24-?p=iphone+12+leaked&pz=10&b=361&pz=10&pstart=5\n",
      "https://in.search.yahoo.com/search;_ylt=AwrxgKR6fOlfkEIA2ELZjSM5;_ylu=Y29sbwNzZzMEcG9zAzEEdnRpZAMEc2VjA3BhZ2luYXRpb24-?p=iphone+12+leaked&pz=10&b=371&pz=10&pstart=5\n",
      "https://in.search.yahoo.com/search;_ylt=AwrPhO98fOlfXSkAS2LZjSM5;_ylu=Y29sbwNzZzMEcG9zAzEEdnRpZAMEc2VjA3BhZ2luYXRpb24-?p=iphone+12+leaked&pz=10&b=381&pz=10&pstart=5\n",
      "https://in.search.yahoo.com/search;_ylt=AwrxgKB9fOlfj1MA5A3ZjSM5;_ylu=Y29sbwNzZzMEcG9zAzEEdnRpZAMEc2VjA3BhZ2luYXRpb24-?p=iphone+12+leaked&pz=10&b=391&pz=10&pstart=5\n",
      "https://in.search.yahoo.com/search;_ylt=AwrPiFJ_fOlfjGUAQQbZjSM5;_ylu=Y29sbwNzZzMEcG9zAzEEdnRpZAMEc2VjA3BhZ2luYXRpb24-?p=iphone+12+leaked&pz=10&b=401&pz=10&pstart=5\n",
      "https://in.search.yahoo.com/search;_ylt=AwrxgKKAfOlfCXUA2RrZjSM5;_ylu=Y29sbwNzZzMEcG9zAzEEdnRpZAMEc2VjA3BhZ2luYXRpb24-?p=iphone+12+leaked&pz=10&b=411&pz=10&pstart=5\n",
      "https://in.search.yahoo.com/search;_ylt=AwrxgKSCfOlfbgEANRrZjSM5;_ylu=Y29sbwNzZzMEcG9zAzEEdnRpZAMEc2VjA3BhZ2luYXRpb24-?p=iphone+12+leaked&pz=10&b=421&pz=10&pstart=5\n",
      "https://in.search.yahoo.com/search;_ylt=AwrPhmuEfOlfbm4AlCLZjSM5;_ylu=Y29sbwNzZzMEcG9zAzEEdnRpZAMEc2VjA3BhZ2luYXRpb24-?p=iphone+12+leaked&pz=10&b=431&pz=10&pstart=5\n",
      "https://in.search.yahoo.com/search;_ylt=AwrPgxCFfOlfGTIAbEjZjSM5;_ylu=Y29sbwNzZzMEcG9zAzEEdnRpZAMEc2VjA3BhZ2luYXRpb24-?p=iphone+12+leaked&pz=10&b=441&pz=10&pstart=5\n",
      "https://in.search.yahoo.com/search;_ylt=AwrwZeSHfOlf2h0AcQ7ZjSM5;_ylu=Y29sbwNzZzMEcG9zAzEEdnRpZAMEc2VjA3BhZ2luYXRpb24-?p=iphone+12+leaked&pz=10&b=451&pz=10&pstart=5\n",
      "https://in.search.yahoo.com/search;_ylt=AwrwJSmIfOlfi18AOwTZjSM5;_ylu=Y29sbwNzZzMEcG9zAzEEdnRpZAMEc2VjA3BhZ2luYXRpb24-?p=iphone+12+leaked&pz=10&b=461&pz=10&pstart=5\n",
      "https://in.search.yahoo.com/search;_ylt=AwrPhO.KfOlfrHgAgTfZjSM5;_ylu=Y29sbwNzZzMEcG9zAzEEdnRpZAMEc2VjA3BhZ2luYXRpb24-?p=iphone+12+leaked&pz=10&b=471&pz=10&pstart=7\n",
      "https://in.search.yahoo.com/search;_ylt=AwrxiDaLfOlfeAoAt0PZjSM5;_ylu=Y29sbwNzZzMEcG9zAzEEdnRpZAMEc2VjA3BhZ2luYXRpb24-?p=iphone+12+leaked&pz=10&b=481&pz=10&pstart=5\n",
      "https://in.search.yahoo.com/search;_ylt=AwrPhOqNfOlfrWsALAXZjSM5;_ylu=Y29sbwNzZzMEcG9zAzEEdnRpZAMEc2VjA3BhZ2luYXRpb24-?p=iphone+12+leaked&pz=10&b=491&pz=10&pstart=5\n",
      "https://in.search.yahoo.com/search;_ylt=AwrxiDKPfOlf2xgAhjHZjSM5;_ylu=Y29sbwNzZzMEcG9zAzEEdnRpZAMEc2VjA3BhZ2luYXRpb24-?p=iphone+12+leaked&pz=10&b=501&pz=10&pstart=5\n",
      "https://in.search.yahoo.com/search;_ylt=AwrwZeSQfOlfUXYAGRbZjSM5;_ylu=Y29sbwNzZzMEcG9zAzEEdnRpZAMEc2VjA3BhZ2luYXRpb24-?p=iphone+12+leaked&pz=10&b=511&pz=10&pstart=5\n",
      "https://in.search.yahoo.com/search;_ylt=AwrxgKKSfOlfqTEAzgjZjSM5;_ylu=Y29sbwNzZzMEcG9zAzEEdnRpZAMEc2VjA3BhZ2luYXRpb24-?p=iphone+12+leaked&pz=10&b=521&pz=10&pstart=5\n",
      "https://in.search.yahoo.com/search;_ylt=AwrPiBGTfOlf7UwAcQnZjSM5;_ylu=Y29sbwNzZzMEcG9zAzEEdnRpZAMEc2VjA3BhZ2luYXRpb24-?p=iphone+12+leaked&pz=10&b=531&pz=10&pstart=5\n",
      "https://in.search.yahoo.com/search;_ylt=AwrPiBCVfOlf6R8ACATZjSM5;_ylu=Y29sbwNzZzMEcG9zAzEEdnRpZAMEc2VjA3BhZ2luYXRpb24-?p=iphone+12+leaked&pz=10&b=541&pz=10&pstart=5\n",
      "https://in.search.yahoo.com/search;_ylt=AwrPg0.WfOlfyT8ACzLZjSM5;_ylu=Y29sbwNzZzMEcG9zAzEEdnRpZAMEc2VjA3BhZ2luYXRpb24-?p=iphone+12+leaked&pz=10&b=551&pz=10&pstart=5\n",
      "https://in.search.yahoo.com/search;_ylt=AwrwI4WYfOlfsVwAdUnZjSM5;_ylu=Y29sbwNzZzMEcG9zAzEEdnRpZAMEc2VjA3BhZ2luYXRpb24-?p=iphone+12+leaked&pz=10&b=561&pz=10&pstart=5\n",
      "https://in.search.yahoo.com/search;_ylt=AwrxiDeafOlf0jIAmxvZjSM5;_ylu=Y29sbwNzZzMEcG9zAzEEdnRpZAMEc2VjA3BhZ2luYXRpb24-?p=iphone+12+leaked&pz=10&b=571&pz=10&pstart=5\n",
      "https://in.search.yahoo.com/search;_ylt=AwrPiFKbfOlfhy4A3jDZjSM5;_ylu=Y29sbwNzZzMEcG9zAzEEdnRpZAMEc2VjA3BhZ2luYXRpb24-?p=iphone+12+leaked&pz=10&b=581&pz=10&pstart=5\n",
      "https://in.search.yahoo.com/search;_ylt=AwrxgKKdfOlf3TIA.SrZjSM5;_ylu=Y29sbwNzZzMEcG9zAzEEdnRpZAMEc2VjA3BhZ2luYXRpb24-?p=iphone+12+leaked&pz=10&b=591&pz=10&pstart=5\n",
      "https://in.search.yahoo.com/search;_ylt=AwrPhS2efOlfSisA_QXZjSM5;_ylu=Y29sbwNzZzMEcG9zAzEEdnRpZAMEc2VjA3BhZ2luYXRpb24-?p=iphone+12+leaked&pz=10&b=601&pz=10&pstart=5\n",
      "https://in.search.yahoo.com/search;_ylt=AwrPg3KgfOlf8mQA.BjZjSM5;_ylu=Y29sbwNzZzMEcG9zAzEEdnRpZAMEc2VjA3BhZ2luYXRpb24-?p=iphone+12+leaked&pz=10&b=611&pz=10&pstart=5\n",
      "https://in.search.yahoo.com/search;_ylt=AwrxiDKifOlfkWAAkSPZjSM5;_ylu=Y29sbwNzZzMEcG9zAzEEdnRpZAMEc2VjA3BhZ2luYXRpb24-?p=iphone+12+leaked&pz=10&b=621&pz=10&pstart=5\n",
      "https://in.search.yahoo.com/search;_ylt=AwrPhS2jfOlfgGIARWLZjSM5;_ylu=Y29sbwNzZzMEcG9zAzEEdnRpZAMEc2VjA3BhZ2luYXRpb24-?p=iphone+12+leaked&pz=10&b=631&pz=10&pstart=5\n",
      "https://in.search.yahoo.com/search;_ylt=AwrPhS2lfOlfMjMABgnZjSM5;_ylu=Y29sbwNzZzMEcG9zAzEEdnRpZAMEc2VjA3BhZ2luYXRpb24-?p=iphone+12+leaked&pz=10&b=641&pz=10&pstart=5\n",
      "https://in.search.yahoo.com/search;_ylt=Awrx5R2mfOlfb2AApU_ZjSM5;_ylu=Y29sbwNzZzMEcG9zAzEEdnRpZAMEc2VjA3BhZ2luYXRpb24-?p=iphone+12+leaked&pz=10&b=651&pz=10&pstart=5\n"
     ]
    }
   ],
   "source": [
    "results = get_the_news(\"iphone 12 leaked\")"
   ]
  },
  {
   "cell_type": "code",
   "execution_count": null,
   "metadata": {},
   "outputs": [],
   "source": []
  }
 ],
 "metadata": {
  "kernelspec": {
   "display_name": "Python 3",
   "language": "python",
   "name": "python3"
  },
  "language_info": {
   "codemirror_mode": {
    "name": "ipython",
    "version": 3
   },
   "file_extension": ".py",
   "mimetype": "text/x-python",
   "name": "python",
   "nbconvert_exporter": "python",
   "pygments_lexer": "ipython3",
   "version": "3.7.9"
  }
 },
 "nbformat": 4,
 "nbformat_minor": 4
}
